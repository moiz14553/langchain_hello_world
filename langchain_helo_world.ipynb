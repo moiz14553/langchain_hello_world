{
  "nbformat": 4,
  "nbformat_minor": 0,
  "metadata": {
    "colab": {
      "provenance": []
    },
    "kernelspec": {
      "name": "python3",
      "display_name": "Python 3"
    },
    "language_info": {
      "name": "python"
    }
  },
  "cells": [
    {
      "cell_type": "code",
      "source": [
        "!pip install -Uq langchain langchain-google-genai"
      ],
      "metadata": {
        "id": "mefHHaZh_3y7"
      },
      "execution_count": 25,
      "outputs": []
    },
    {
      "cell_type": "code",
      "source": [
        "import langchain_google_genai as genai"
      ],
      "metadata": {
        "id": "ElCmxv_O_9Ry"
      },
      "execution_count": 26,
      "outputs": []
    },
    {
      "cell_type": "code",
      "source": [
        "\n",
        "from langchain_google_genai import ChatGoogleGenerativeAI"
      ],
      "metadata": {
        "id": "E2R9SiQWABdi"
      },
      "execution_count": 27,
      "outputs": []
    },
    {
      "cell_type": "code",
      "source": [
        "from google.colab import userdata\n",
        "GOOGLE_API_KEY = userdata.get('GOOGLE_API_KEY')\n"
      ],
      "metadata": {
        "id": "BuEWoQ4KAFJS"
      },
      "execution_count": 29,
      "outputs": []
    },
    {
      "cell_type": "code",
      "source": [
        "llm : ChatGoogleGenerativeAI = ChatGoogleGenerativeAI(\n",
        "  model=\"gemini-2.0-flash-exp\",\n",
        "  api_key=GOOGLE_API_KEY,\n",
        ")\n",
        ""
      ],
      "metadata": {
        "id": "NI_kglMvAjXS"
      },
      "execution_count": 30,
      "outputs": []
    },
    {
      "cell_type": "code",
      "source": [
        "\n",
        "response = llm.invoke(\"What is the artificial intelligence?\")"
      ],
      "metadata": {
        "id": "7PeWwnzwA2aB"
      },
      "execution_count": 37,
      "outputs": []
    },
    {
      "cell_type": "code",
      "source": [
        "print(response.content)"
      ],
      "metadata": {
        "colab": {
          "base_uri": "https://localhost:8080/"
        },
        "id": "u8swvjsdA5up",
        "outputId": "f38ae23b-751d-44ab-9784-123c8f0ab003"
      },
      "execution_count": 38,
      "outputs": [
        {
          "output_type": "stream",
          "name": "stdout",
          "text": [
            "Artificial Intelligence (AI) is a broad field of computer science focused on creating intelligent agents – systems that can reason, learn, and act autonomously. In simpler terms, it's about making computers think and behave like humans (or even surpass human capabilities in specific tasks).\n",
            "\n",
            "Here's a breakdown of key aspects of AI:\n",
            "\n",
            "**Core Concepts:**\n",
            "\n",
            "* **Intelligence:** The ability to acquire and apply knowledge and skills. In AI, this translates to the ability to learn from data, solve problems, make decisions, and adapt to new situations.\n",
            "* **Artificial:** Created by humans, typically through computer programs and algorithms.\n",
            "* **Agents:** Entities that can perceive their environment, process information, and take actions. In AI, these are typically software programs or robotic systems.\n",
            "\n",
            "**Key Capabilities of AI:**\n",
            "\n",
            "* **Learning:** The ability to improve performance over time based on experience. This is often achieved through machine learning techniques.\n",
            "* **Problem Solving:** The ability to analyze a situation, identify a solution, and implement it.\n",
            "* **Reasoning:** The ability to draw inferences, make logical deductions, and understand relationships between concepts.\n",
            "* **Perception:** The ability to interpret sensory input from the world, such as images, sounds, and text.\n",
            "* **Natural Language Processing (NLP):** The ability to understand and generate human language.\n",
            "* **Planning:** The ability to set goals, devise strategies, and execute plans.\n",
            "* **Adaptation:** The ability to adjust to changing circumstances and learn from new experiences.\n",
            "\n",
            "**Types of AI:**\n",
            "\n",
            "AI is often categorized based on its capabilities:\n",
            "\n",
            "* **Narrow or Weak AI:** AI systems designed to perform a specific task, like image recognition, spam filtering, or playing chess. This is the most common type of AI we see today.\n",
            "* **General or Strong AI:** Hypothetical AI systems that can perform any intellectual task that a human can. This type of AI doesn't exist yet.\n",
            "* **Super AI:** Hypothetical AI systems that surpass human intelligence in all aspects. This is a more futuristic and debated concept.\n",
            "\n",
            "**Techniques Used in AI:**\n",
            "\n",
            "* **Machine Learning (ML):** A subset of AI that allows computers to learn from data without explicit programming. Common techniques include:\n",
            "    * **Supervised Learning:** Training models on labeled data.\n",
            "    * **Unsupervised Learning:** Training models on unlabeled data to discover patterns.\n",
            "    * **Reinforcement Learning:** Training models through trial and error based on rewards and penalties.\n",
            "* **Deep Learning:** A type of machine learning that uses artificial neural networks with multiple layers to extract complex features from data.\n",
            "* **Rule-Based Systems:** AI systems that use predefined rules to make decisions.\n",
            "* **Expert Systems:** AI systems that mimic the decision-making abilities of a human expert in a specific domain.\n",
            "\n",
            "**Applications of AI:**\n",
            "\n",
            "AI is rapidly transforming various industries and aspects of our lives, including:\n",
            "\n",
            "* **Healthcare:** Medical diagnosis, drug discovery, personalized treatment.\n",
            "* **Finance:** Fraud detection, risk assessment, algorithmic trading.\n",
            "* **Transportation:** Self-driving cars, traffic optimization, logistics.\n",
            "* **Manufacturing:** Automation, quality control, predictive maintenance.\n",
            "* **Education:** Personalized learning, intelligent tutoring systems.\n",
            "* **Entertainment:** Gaming, movie recommendations, music generation.\n",
            "* **Customer Service:** Chatbots, virtual assistants, personalized support.\n",
            "\n",
            "**In Summary:**\n",
            "\n",
            "AI is a rapidly evolving field that seeks to create intelligent machines capable of mimicking and even exceeding human cognitive abilities. It encompasses a wide range of techniques and applications, and its impact on society is becoming increasingly profound. While we are still far from achieving general AI, narrow AI is already transforming the world around us.\n",
            "\n",
            "It's important to note that the definition and scope of AI are constantly evolving as the field progresses. This makes it a fascinating and dynamic area of study.\n",
            "\n"
          ]
        }
      ]
    }
  ]
}